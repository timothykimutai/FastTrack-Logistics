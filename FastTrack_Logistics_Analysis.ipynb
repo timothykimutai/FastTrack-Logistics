{
 "cells": [
  {
   "cell_type": "markdown",
   "id": "18b9041d",
   "metadata": {},
   "source": [
    "# Optimizing Delivery Operations: A Data-Driven Analysis for FastTrack Logistics\n",
    "\n",
    "## Project Overview\n",
    "As a Data Analyst at FastTrack Logistics, your mission is to improve delivery performance, reduce delays, and identify cost-saving opportunities using data-driven insights. This notebook guides you through the end-to-end workflow: data collection, cleaning, analysis, visualization, and actionable recommendations.\n",
    "\n",
    "### Workflow Outline\n",
    "1. Data Collection\n",
    "2. Data Cleaning & Preparation\n",
    "3. Feature Engineering\n",
    "4. Exploratory Data Analysis (EDA)\n",
    "5. Visualization & Reporting\n",
    "6. Business Intelligence & Insights\n",
    "7. Automation (Optional Bonus)\n",
    "\n",
    "---\n",
    "\n",
    "## 1. Data Collection\n",
    "We will simulate a realistic logistics dataset with columns such as:\n",
    "- Order_ID, Customer_ID, Delivery_Date, Scheduled_Delivery, Distance_km\n",
    "- Delivery_Status (On Time, Delayed), Region, Courier_Name, Fuel_Cost, Time_Taken_hr\n",
    "\n",
    "You can replace this synthetic data with real CSV/database data as needed."
   ]
  },
  {
   "cell_type": "code",
   "execution_count": 1,
   "id": "09f9b9de",
   "metadata": {},
   "outputs": [
    {
     "data": {
      "application/vnd.microsoft.datawrangler.viewer.v0+json": {
       "columns": [
        {
         "name": "index",
         "rawType": "int64",
         "type": "integer"
        },
        {
         "name": "Order_ID",
         "rawType": "object",
         "type": "string"
        },
        {
         "name": "Customer_ID",
         "rawType": "object",
         "type": "string"
        },
        {
         "name": "Delivery_Date",
         "rawType": "datetime64[ns]",
         "type": "datetime"
        },
        {
         "name": "Scheduled_Delivery",
         "rawType": "datetime64[ns]",
         "type": "datetime"
        },
        {
         "name": "Distance_km",
         "rawType": "float64",
         "type": "float"
        },
        {
         "name": "Delivery_Status",
         "rawType": "object",
         "type": "string"
        },
        {
         "name": "Region",
         "rawType": "object",
         "type": "string"
        },
        {
         "name": "Courier_Name",
         "rawType": "object",
         "type": "string"
        },
        {
         "name": "Fuel_Cost",
         "rawType": "float64",
         "type": "float"
        },
        {
         "name": "Time_Taken_hr",
         "rawType": "float64",
         "type": "float"
        }
       ],
       "ref": "751180d4-e367-44bd-a1c7-1d9c068f6c33",
       "rows": [
        [
         "0",
         "ORD10000",
         "CUST2000",
         "2025-06-07 00:00:00",
         "2025-06-07 00:00:00",
         "103.77",
         "On Time",
         "North",
         "CourierC",
         "114.09",
         "2.22"
        ],
        [
         "1",
         "ORD10001",
         "CUST2001",
         "2025-06-20 00:00:00",
         "2025-06-19 20:00:00",
         "341.71",
         "On Time",
         "West",
         "CourierD",
         "479.22",
         "5.84"
        ],
        [
         "2",
         "ORD10002",
         "CUST2002",
         "2025-06-29 00:00:00",
         "2025-06-29 00:00:00",
         "40.74",
         "On Time",
         "East",
         "CourierB",
         "35.98",
         "0.54"
        ],
        [
         "3",
         "ORD10003",
         "CUST2003",
         "2025-06-15 00:00:00",
         "2025-06-15 00:00:00",
         "20.17",
         "On Time",
         "East",
         "CourierA",
         "14.45",
         "0.67"
        ],
        [
         "4",
         "ORD10004",
         "CUST2004",
         "2025-06-11 00:00:00",
         "2025-06-10 22:00:00",
         "132.55",
         "On Time",
         "East",
         "CourierB",
         "124.94",
         "1.88"
        ]
       ],
       "shape": {
        "columns": 10,
        "rows": 5
       }
      },
      "text/html": [
       "<div>\n",
       "<style scoped>\n",
       "    .dataframe tbody tr th:only-of-type {\n",
       "        vertical-align: middle;\n",
       "    }\n",
       "\n",
       "    .dataframe tbody tr th {\n",
       "        vertical-align: top;\n",
       "    }\n",
       "\n",
       "    .dataframe thead th {\n",
       "        text-align: right;\n",
       "    }\n",
       "</style>\n",
       "<table border=\"1\" class=\"dataframe\">\n",
       "  <thead>\n",
       "    <tr style=\"text-align: right;\">\n",
       "      <th></th>\n",
       "      <th>Order_ID</th>\n",
       "      <th>Customer_ID</th>\n",
       "      <th>Delivery_Date</th>\n",
       "      <th>Scheduled_Delivery</th>\n",
       "      <th>Distance_km</th>\n",
       "      <th>Delivery_Status</th>\n",
       "      <th>Region</th>\n",
       "      <th>Courier_Name</th>\n",
       "      <th>Fuel_Cost</th>\n",
       "      <th>Time_Taken_hr</th>\n",
       "    </tr>\n",
       "  </thead>\n",
       "  <tbody>\n",
       "    <tr>\n",
       "      <th>0</th>\n",
       "      <td>ORD10000</td>\n",
       "      <td>CUST2000</td>\n",
       "      <td>2025-06-07</td>\n",
       "      <td>2025-06-07 00:00:00</td>\n",
       "      <td>103.77</td>\n",
       "      <td>On Time</td>\n",
       "      <td>North</td>\n",
       "      <td>CourierC</td>\n",
       "      <td>114.09</td>\n",
       "      <td>2.22</td>\n",
       "    </tr>\n",
       "    <tr>\n",
       "      <th>1</th>\n",
       "      <td>ORD10001</td>\n",
       "      <td>CUST2001</td>\n",
       "      <td>2025-06-20</td>\n",
       "      <td>2025-06-19 20:00:00</td>\n",
       "      <td>341.71</td>\n",
       "      <td>On Time</td>\n",
       "      <td>West</td>\n",
       "      <td>CourierD</td>\n",
       "      <td>479.22</td>\n",
       "      <td>5.84</td>\n",
       "    </tr>\n",
       "    <tr>\n",
       "      <th>2</th>\n",
       "      <td>ORD10002</td>\n",
       "      <td>CUST2002</td>\n",
       "      <td>2025-06-29</td>\n",
       "      <td>2025-06-29 00:00:00</td>\n",
       "      <td>40.74</td>\n",
       "      <td>On Time</td>\n",
       "      <td>East</td>\n",
       "      <td>CourierB</td>\n",
       "      <td>35.98</td>\n",
       "      <td>0.54</td>\n",
       "    </tr>\n",
       "    <tr>\n",
       "      <th>3</th>\n",
       "      <td>ORD10003</td>\n",
       "      <td>CUST2003</td>\n",
       "      <td>2025-06-15</td>\n",
       "      <td>2025-06-15 00:00:00</td>\n",
       "      <td>20.17</td>\n",
       "      <td>On Time</td>\n",
       "      <td>East</td>\n",
       "      <td>CourierA</td>\n",
       "      <td>14.45</td>\n",
       "      <td>0.67</td>\n",
       "    </tr>\n",
       "    <tr>\n",
       "      <th>4</th>\n",
       "      <td>ORD10004</td>\n",
       "      <td>CUST2004</td>\n",
       "      <td>2025-06-11</td>\n",
       "      <td>2025-06-10 22:00:00</td>\n",
       "      <td>132.55</td>\n",
       "      <td>On Time</td>\n",
       "      <td>East</td>\n",
       "      <td>CourierB</td>\n",
       "      <td>124.94</td>\n",
       "      <td>1.88</td>\n",
       "    </tr>\n",
       "  </tbody>\n",
       "</table>\n",
       "</div>"
      ],
      "text/plain": [
       "   Order_ID Customer_ID Delivery_Date  Scheduled_Delivery  Distance_km  \\\n",
       "0  ORD10000    CUST2000    2025-06-07 2025-06-07 00:00:00       103.77   \n",
       "1  ORD10001    CUST2001    2025-06-20 2025-06-19 20:00:00       341.71   \n",
       "2  ORD10002    CUST2002    2025-06-29 2025-06-29 00:00:00        40.74   \n",
       "3  ORD10003    CUST2003    2025-06-15 2025-06-15 00:00:00        20.17   \n",
       "4  ORD10004    CUST2004    2025-06-11 2025-06-10 22:00:00       132.55   \n",
       "\n",
       "  Delivery_Status Region Courier_Name  Fuel_Cost  Time_Taken_hr  \n",
       "0         On Time  North     CourierC     114.09           2.22  \n",
       "1         On Time   West     CourierD     479.22           5.84  \n",
       "2         On Time   East     CourierB      35.98           0.54  \n",
       "3         On Time   East     CourierA      14.45           0.67  \n",
       "4         On Time   East     CourierB     124.94           1.88  "
      ]
     },
     "execution_count": 1,
     "metadata": {},
     "output_type": "execute_result"
    }
   ],
   "source": [
    "# Simulate Synthetic Logistics Dataset\n",
    "import pandas as pd\n",
    "import numpy as np\n",
    "from datetime import datetime, timedelta\n",
    "\n",
    "np.random.seed(42)\n",
    "num_orders = 1000\n",
    "regions = ['North', 'South', 'East', 'West']\n",
    "couriers = ['CourierA', 'CourierB', 'CourierC', 'CourierD']\n",
    "\n",
    "order_ids = [f'ORD{10000+i}' for i in range(num_orders)]\n",
    "customer_ids = [f'CUST{2000+i}' for i in range(num_orders)]\n",
    "base_date = datetime(2025, 6, 1)\n",
    "delivery_dates = [base_date + timedelta(days=np.random.randint(0, 30)) for _ in range(num_orders)]\n",
    "scheduled_dates = [d - timedelta(hours=np.random.randint(0, 5)) for d in delivery_dates]\n",
    "distances = np.random.uniform(5, 500, num_orders).round(2)\n",
    "delivery_status = np.random.choice(['On Time', 'Delayed'], num_orders, p=[0.85, 0.15])\n",
    "regions_sample = np.random.choice(regions, num_orders)\n",
    "courier_sample = np.random.choice(couriers, num_orders)\n",
    "fuel_costs = (distances * np.random.uniform(0.5, 1.5, num_orders)).round(2)\n",
    "time_taken = distances / np.random.uniform(30, 80, num_orders)\n",
    "time_taken = time_taken.round(2)\n",
    "\n",
    "# Assemble DataFrame\n",
    "data = pd.DataFrame({\n",
    "    'Order_ID': order_ids,\n",
    "    'Customer_ID': customer_ids,\n",
    "    'Delivery_Date': delivery_dates,\n",
    "    'Scheduled_Delivery': scheduled_dates,\n",
    "    'Distance_km': distances,\n",
    "    'Delivery_Status': delivery_status,\n",
    "    'Region': regions_sample,\n",
    "    'Courier_Name': courier_sample,\n",
    "    'Fuel_Cost': fuel_costs,\n",
    "    'Time_Taken_hr': time_taken\n",
    "})\n",
    "\n",
    "data.head()"
   ]
  },
  {
   "cell_type": "markdown",
   "id": "1ad2184a",
   "metadata": {},
   "source": [
    "## 2. Data Cleaning & Preparation\n",
    "\n",
    "In this section, we will:\n",
    "- Check for missing values and duplicates\n",
    "- Convert columns to appropriate data types\n",
    "- Handle any data quality issues\n",
    "\n",
    "This ensures our dataset is ready for analysis and feature engineering."
   ]
  },
  {
   "cell_type": "code",
   "execution_count": 2,
   "id": "272b4fb3",
   "metadata": {},
   "outputs": [
    {
     "name": "stdout",
     "output_type": "stream",
     "text": [
      "Missing values per column:\n",
      "Order_ID              0\n",
      "Customer_ID           0\n",
      "Delivery_Date         0\n",
      "Scheduled_Delivery    0\n",
      "Distance_km           0\n",
      "Delivery_Status       0\n",
      "Region                0\n",
      "Courier_Name          0\n",
      "Fuel_Cost             0\n",
      "Time_Taken_hr         0\n",
      "dtype: int64\n",
      "Number of duplicate rows: 0\n",
      "<class 'pandas.core.frame.DataFrame'>\n",
      "RangeIndex: 1000 entries, 0 to 999\n",
      "Data columns (total 10 columns):\n",
      " #   Column              Non-Null Count  Dtype         \n",
      "---  ------              --------------  -----         \n",
      " 0   Order_ID            1000 non-null   object        \n",
      " 1   Customer_ID         1000 non-null   object        \n",
      " 2   Delivery_Date       1000 non-null   datetime64[ns]\n",
      " 3   Scheduled_Delivery  1000 non-null   datetime64[ns]\n",
      " 4   Distance_km         1000 non-null   float64       \n",
      " 5   Delivery_Status     1000 non-null   object        \n",
      " 6   Region              1000 non-null   object        \n",
      " 7   Courier_Name        1000 non-null   object        \n",
      " 8   Fuel_Cost           1000 non-null   float64       \n",
      " 9   Time_Taken_hr       1000 non-null   float64       \n",
      "dtypes: datetime64[ns](2), float64(3), object(5)\n",
      "memory usage: 78.3+ KB\n"
     ]
    },
    {
     "data": {
      "application/vnd.microsoft.datawrangler.viewer.v0+json": {
       "columns": [
        {
         "name": "index",
         "rawType": "int64",
         "type": "integer"
        },
        {
         "name": "Order_ID",
         "rawType": "object",
         "type": "string"
        },
        {
         "name": "Customer_ID",
         "rawType": "object",
         "type": "string"
        },
        {
         "name": "Delivery_Date",
         "rawType": "datetime64[ns]",
         "type": "datetime"
        },
        {
         "name": "Scheduled_Delivery",
         "rawType": "datetime64[ns]",
         "type": "datetime"
        },
        {
         "name": "Distance_km",
         "rawType": "float64",
         "type": "float"
        },
        {
         "name": "Delivery_Status",
         "rawType": "object",
         "type": "string"
        },
        {
         "name": "Region",
         "rawType": "object",
         "type": "string"
        },
        {
         "name": "Courier_Name",
         "rawType": "object",
         "type": "string"
        },
        {
         "name": "Fuel_Cost",
         "rawType": "float64",
         "type": "float"
        },
        {
         "name": "Time_Taken_hr",
         "rawType": "float64",
         "type": "float"
        }
       ],
       "ref": "2693dffd-ed38-4aa0-9bf6-10a61ac71316",
       "rows": [
        [
         "0",
         "ORD10000",
         "CUST2000",
         "2025-06-07 00:00:00",
         "2025-06-07 00:00:00",
         "103.77",
         "On Time",
         "North",
         "CourierC",
         "114.09",
         "2.22"
        ],
        [
         "1",
         "ORD10001",
         "CUST2001",
         "2025-06-20 00:00:00",
         "2025-06-19 20:00:00",
         "341.71",
         "On Time",
         "West",
         "CourierD",
         "479.22",
         "5.84"
        ],
        [
         "2",
         "ORD10002",
         "CUST2002",
         "2025-06-29 00:00:00",
         "2025-06-29 00:00:00",
         "40.74",
         "On Time",
         "East",
         "CourierB",
         "35.98",
         "0.54"
        ],
        [
         "3",
         "ORD10003",
         "CUST2003",
         "2025-06-15 00:00:00",
         "2025-06-15 00:00:00",
         "20.17",
         "On Time",
         "East",
         "CourierA",
         "14.45",
         "0.67"
        ],
        [
         "4",
         "ORD10004",
         "CUST2004",
         "2025-06-11 00:00:00",
         "2025-06-10 22:00:00",
         "132.55",
         "On Time",
         "East",
         "CourierB",
         "124.94",
         "1.88"
        ]
       ],
       "shape": {
        "columns": 10,
        "rows": 5
       }
      },
      "text/html": [
       "<div>\n",
       "<style scoped>\n",
       "    .dataframe tbody tr th:only-of-type {\n",
       "        vertical-align: middle;\n",
       "    }\n",
       "\n",
       "    .dataframe tbody tr th {\n",
       "        vertical-align: top;\n",
       "    }\n",
       "\n",
       "    .dataframe thead th {\n",
       "        text-align: right;\n",
       "    }\n",
       "</style>\n",
       "<table border=\"1\" class=\"dataframe\">\n",
       "  <thead>\n",
       "    <tr style=\"text-align: right;\">\n",
       "      <th></th>\n",
       "      <th>Order_ID</th>\n",
       "      <th>Customer_ID</th>\n",
       "      <th>Delivery_Date</th>\n",
       "      <th>Scheduled_Delivery</th>\n",
       "      <th>Distance_km</th>\n",
       "      <th>Delivery_Status</th>\n",
       "      <th>Region</th>\n",
       "      <th>Courier_Name</th>\n",
       "      <th>Fuel_Cost</th>\n",
       "      <th>Time_Taken_hr</th>\n",
       "    </tr>\n",
       "  </thead>\n",
       "  <tbody>\n",
       "    <tr>\n",
       "      <th>0</th>\n",
       "      <td>ORD10000</td>\n",
       "      <td>CUST2000</td>\n",
       "      <td>2025-06-07</td>\n",
       "      <td>2025-06-07 00:00:00</td>\n",
       "      <td>103.77</td>\n",
       "      <td>On Time</td>\n",
       "      <td>North</td>\n",
       "      <td>CourierC</td>\n",
       "      <td>114.09</td>\n",
       "      <td>2.22</td>\n",
       "    </tr>\n",
       "    <tr>\n",
       "      <th>1</th>\n",
       "      <td>ORD10001</td>\n",
       "      <td>CUST2001</td>\n",
       "      <td>2025-06-20</td>\n",
       "      <td>2025-06-19 20:00:00</td>\n",
       "      <td>341.71</td>\n",
       "      <td>On Time</td>\n",
       "      <td>West</td>\n",
       "      <td>CourierD</td>\n",
       "      <td>479.22</td>\n",
       "      <td>5.84</td>\n",
       "    </tr>\n",
       "    <tr>\n",
       "      <th>2</th>\n",
       "      <td>ORD10002</td>\n",
       "      <td>CUST2002</td>\n",
       "      <td>2025-06-29</td>\n",
       "      <td>2025-06-29 00:00:00</td>\n",
       "      <td>40.74</td>\n",
       "      <td>On Time</td>\n",
       "      <td>East</td>\n",
       "      <td>CourierB</td>\n",
       "      <td>35.98</td>\n",
       "      <td>0.54</td>\n",
       "    </tr>\n",
       "    <tr>\n",
       "      <th>3</th>\n",
       "      <td>ORD10003</td>\n",
       "      <td>CUST2003</td>\n",
       "      <td>2025-06-15</td>\n",
       "      <td>2025-06-15 00:00:00</td>\n",
       "      <td>20.17</td>\n",
       "      <td>On Time</td>\n",
       "      <td>East</td>\n",
       "      <td>CourierA</td>\n",
       "      <td>14.45</td>\n",
       "      <td>0.67</td>\n",
       "    </tr>\n",
       "    <tr>\n",
       "      <th>4</th>\n",
       "      <td>ORD10004</td>\n",
       "      <td>CUST2004</td>\n",
       "      <td>2025-06-11</td>\n",
       "      <td>2025-06-10 22:00:00</td>\n",
       "      <td>132.55</td>\n",
       "      <td>On Time</td>\n",
       "      <td>East</td>\n",
       "      <td>CourierB</td>\n",
       "      <td>124.94</td>\n",
       "      <td>1.88</td>\n",
       "    </tr>\n",
       "  </tbody>\n",
       "</table>\n",
       "</div>"
      ],
      "text/plain": [
       "   Order_ID Customer_ID Delivery_Date  Scheduled_Delivery  Distance_km  \\\n",
       "0  ORD10000    CUST2000    2025-06-07 2025-06-07 00:00:00       103.77   \n",
       "1  ORD10001    CUST2001    2025-06-20 2025-06-19 20:00:00       341.71   \n",
       "2  ORD10002    CUST2002    2025-06-29 2025-06-29 00:00:00        40.74   \n",
       "3  ORD10003    CUST2003    2025-06-15 2025-06-15 00:00:00        20.17   \n",
       "4  ORD10004    CUST2004    2025-06-11 2025-06-10 22:00:00       132.55   \n",
       "\n",
       "  Delivery_Status Region Courier_Name  Fuel_Cost  Time_Taken_hr  \n",
       "0         On Time  North     CourierC     114.09           2.22  \n",
       "1         On Time   West     CourierD     479.22           5.84  \n",
       "2         On Time   East     CourierB      35.98           0.54  \n",
       "3         On Time   East     CourierA      14.45           0.67  \n",
       "4         On Time   East     CourierB     124.94           1.88  "
      ]
     },
     "execution_count": 2,
     "metadata": {},
     "output_type": "execute_result"
    }
   ],
   "source": [
    "# Data Cleaning & Preparation\n",
    "# Check for missing values\n",
    "missing_summary = data.isnull().sum()\n",
    "print('Missing values per column:')\n",
    "print(missing_summary)\n",
    "\n",
    "# Check for duplicates\n",
    "duplicate_count = data.duplicated().sum()\n",
    "print(f'Number of duplicate rows: {duplicate_count}')\n",
    "\n",
    "# Remove duplicates if any\n",
    "data = data.drop_duplicates()\n",
    "\n",
    "# Convert date columns to datetime\n",
    "data['Delivery_Date'] = pd.to_datetime(data['Delivery_Date'])\n",
    "data['Scheduled_Delivery'] = pd.to_datetime(data['Scheduled_Delivery'])\n",
    "\n",
    "# Ensure numeric columns are correct type\n",
    "numeric_cols = ['Distance_km', 'Fuel_Cost', 'Time_Taken_hr']\n",
    "data[numeric_cols] = data[numeric_cols].apply(pd.to_numeric)\n",
    "\n",
    "# Preview cleaned data\n",
    "data.info()\n",
    "data.head()"
   ]
  },
  {
   "cell_type": "markdown",
   "id": "1c6d7443",
   "metadata": {},
   "source": [
    "## 3. Feature Engineering\n",
    "\n",
    "In this section, we will create new features to enhance our analysis:\n",
    "- `Delivery_Delay` (hours): Difference between actual and scheduled delivery times\n",
    "- `Cost_per_km`: Fuel cost per kilometer\n",
    "- Additional metrics to support further analysis"
   ]
  },
  {
   "cell_type": "code",
   "execution_count": 3,
   "id": "bfc9d530",
   "metadata": {},
   "outputs": [
    {
     "data": {
      "application/vnd.microsoft.datawrangler.viewer.v0+json": {
       "columns": [
        {
         "name": "index",
         "rawType": "int64",
         "type": "integer"
        },
        {
         "name": "Order_ID",
         "rawType": "object",
         "type": "string"
        },
        {
         "name": "Delivery_Date",
         "rawType": "datetime64[ns]",
         "type": "datetime"
        },
        {
         "name": "Scheduled_Delivery",
         "rawType": "datetime64[ns]",
         "type": "datetime"
        },
        {
         "name": "Delivery_Delay_hr",
         "rawType": "float64",
         "type": "float"
        },
        {
         "name": "Cost_per_km",
         "rawType": "float64",
         "type": "float"
        }
       ],
       "ref": "6f0ea161-e79a-45d0-ae14-727c1d6f4692",
       "rows": [
        [
         "0",
         "ORD10000",
         "2025-06-07 00:00:00",
         "2025-06-07 00:00:00",
         "0.0",
         "1.0994507082971958"
        ],
        [
         "1",
         "ORD10001",
         "2025-06-20 00:00:00",
         "2025-06-19 20:00:00",
         "4.0",
         "1.4024172543970035"
        ],
        [
         "2",
         "ORD10002",
         "2025-06-29 00:00:00",
         "2025-06-29 00:00:00",
         "0.0",
         "0.8831615120274913"
        ],
        [
         "3",
         "ORD10003",
         "2025-06-15 00:00:00",
         "2025-06-15 00:00:00",
         "0.0",
         "0.7164105106593951"
        ],
        [
         "4",
         "ORD10004",
         "2025-06-11 00:00:00",
         "2025-06-10 22:00:00",
         "2.0",
         "0.9425877027536778"
        ]
       ],
       "shape": {
        "columns": 5,
        "rows": 5
       }
      },
      "text/html": [
       "<div>\n",
       "<style scoped>\n",
       "    .dataframe tbody tr th:only-of-type {\n",
       "        vertical-align: middle;\n",
       "    }\n",
       "\n",
       "    .dataframe tbody tr th {\n",
       "        vertical-align: top;\n",
       "    }\n",
       "\n",
       "    .dataframe thead th {\n",
       "        text-align: right;\n",
       "    }\n",
       "</style>\n",
       "<table border=\"1\" class=\"dataframe\">\n",
       "  <thead>\n",
       "    <tr style=\"text-align: right;\">\n",
       "      <th></th>\n",
       "      <th>Order_ID</th>\n",
       "      <th>Delivery_Date</th>\n",
       "      <th>Scheduled_Delivery</th>\n",
       "      <th>Delivery_Delay_hr</th>\n",
       "      <th>Cost_per_km</th>\n",
       "    </tr>\n",
       "  </thead>\n",
       "  <tbody>\n",
       "    <tr>\n",
       "      <th>0</th>\n",
       "      <td>ORD10000</td>\n",
       "      <td>2025-06-07</td>\n",
       "      <td>2025-06-07 00:00:00</td>\n",
       "      <td>0.0</td>\n",
       "      <td>1.099451</td>\n",
       "    </tr>\n",
       "    <tr>\n",
       "      <th>1</th>\n",
       "      <td>ORD10001</td>\n",
       "      <td>2025-06-20</td>\n",
       "      <td>2025-06-19 20:00:00</td>\n",
       "      <td>4.0</td>\n",
       "      <td>1.402417</td>\n",
       "    </tr>\n",
       "    <tr>\n",
       "      <th>2</th>\n",
       "      <td>ORD10002</td>\n",
       "      <td>2025-06-29</td>\n",
       "      <td>2025-06-29 00:00:00</td>\n",
       "      <td>0.0</td>\n",
       "      <td>0.883162</td>\n",
       "    </tr>\n",
       "    <tr>\n",
       "      <th>3</th>\n",
       "      <td>ORD10003</td>\n",
       "      <td>2025-06-15</td>\n",
       "      <td>2025-06-15 00:00:00</td>\n",
       "      <td>0.0</td>\n",
       "      <td>0.716411</td>\n",
       "    </tr>\n",
       "    <tr>\n",
       "      <th>4</th>\n",
       "      <td>ORD10004</td>\n",
       "      <td>2025-06-11</td>\n",
       "      <td>2025-06-10 22:00:00</td>\n",
       "      <td>2.0</td>\n",
       "      <td>0.942588</td>\n",
       "    </tr>\n",
       "  </tbody>\n",
       "</table>\n",
       "</div>"
      ],
      "text/plain": [
       "   Order_ID Delivery_Date  Scheduled_Delivery  Delivery_Delay_hr  Cost_per_km\n",
       "0  ORD10000    2025-06-07 2025-06-07 00:00:00                0.0     1.099451\n",
       "1  ORD10001    2025-06-20 2025-06-19 20:00:00                4.0     1.402417\n",
       "2  ORD10002    2025-06-29 2025-06-29 00:00:00                0.0     0.883162\n",
       "3  ORD10003    2025-06-15 2025-06-15 00:00:00                0.0     0.716411\n",
       "4  ORD10004    2025-06-11 2025-06-10 22:00:00                2.0     0.942588"
      ]
     },
     "execution_count": 3,
     "metadata": {},
     "output_type": "execute_result"
    }
   ],
   "source": [
    "# Feature Engineering\n",
    "# Calculate Delivery_Delay (hours)\n",
    "data['Delivery_Delay_hr'] = (data['Delivery_Date'] - data['Scheduled_Delivery']).dt.total_seconds() / 3600\n",
    "\n",
    "# Calculate Cost_per_km\n",
    "# Avoid division by zero\n",
    "data['Cost_per_km'] = data['Fuel_Cost'] / data['Distance_km'].replace(0, np.nan)\n",
    "\n",
    "# Preview new features\n",
    "data[['Order_ID', 'Delivery_Date', 'Scheduled_Delivery', 'Delivery_Delay_hr', 'Cost_per_km']].head()"
   ]
  },
  {
   "cell_type": "markdown",
   "id": "101a8382",
   "metadata": {},
   "source": [
    "## 4. Exploratory Data Analysis (EDA)\n",
    "\n",
    "In this section, we will:\n",
    "- Analyze delivery trends by region, courier, and time\n",
    "- Identify patterns in delivery delays and fuel usage\n",
    "- Calculate key metrics: average delivery time, % on-time deliveries, cost per order"
   ]
  },
  {
   "cell_type": "code",
   "execution_count": 4,
   "id": "f0d4087a",
   "metadata": {},
   "outputs": [
    {
     "name": "stdout",
     "output_type": "stream",
     "text": [
      "Region-wise summary:\n",
      "        Total_Orders  Delivery_Delay_hr  Fuel_Cost  Cost_per_km\n",
      "Region                                                         \n",
      "East             254           1.901575   64509.94     0.976647\n",
      "North            236           2.055085   57015.29     0.999124\n",
      "South            244           2.008197   61752.42     1.013197\n",
      "West             266           1.883459   68432.33     0.988857\n",
      "\n",
      "Courier-wise summary:\n",
      "              Total_Orders  Delivery_Delay_hr  Fuel_Cost  Cost_per_km\n",
      "Courier_Name                                                         \n",
      "CourierA               225           1.884444   54646.49     0.983056\n",
      "CourierB               259           1.969112   67913.05     1.019714\n",
      "CourierC               257           1.949416   65961.75     0.986322\n",
      "CourierD               259           2.023166   63188.69     0.985867\n",
      "\n",
      "Delivery Status (%):\n",
      "Delivery_Status\n",
      "On Time    86.1\n",
      "Delayed    13.9\n",
      "Name: proportion, dtype: float64\n",
      "\n",
      "Average Delivery Time (hr): 4.96\n",
      "Average Fuel Cost per Order: 251.71\n"
     ]
    }
   ],
   "source": [
    "# Exploratory Data Analysis (EDA)\n",
    "# Delivery trends by region\n",
    "region_summary = data.groupby('Region').agg({\n",
    "    'Order_ID': 'count',\n",
    "    'Delivery_Delay_hr': 'mean',\n",
    "    'Fuel_Cost': 'sum',\n",
    "    'Cost_per_km': 'mean'\n",
    "}).rename(columns={'Order_ID': 'Total_Orders'})\n",
    "print('Region-wise summary:')\n",
    "print(region_summary)\n",
    "\n",
    "# Courier performance\n",
    "courier_summary = data.groupby('Courier_Name').agg({\n",
    "    'Order_ID': 'count',\n",
    "    'Delivery_Delay_hr': 'mean',\n",
    "    'Fuel_Cost': 'sum',\n",
    "    'Cost_per_km': 'mean'\n",
    "}).rename(columns={'Order_ID': 'Total_Orders'})\n",
    "print('\\nCourier-wise summary:')\n",
    "print(courier_summary)\n",
    "\n",
    "# Delivery status breakdown\n",
    "status_counts = data['Delivery_Status'].value_counts(normalize=True) * 100\n",
    "print('\\nDelivery Status (%):')\n",
    "print(status_counts)\n",
    "\n",
    "# Average delivery time\n",
    "avg_time = data['Time_Taken_hr'].mean()\n",
    "print(f'\\nAverage Delivery Time (hr): {avg_time:.2f}')\n",
    "\n",
    "# Cost per order\n",
    "cost_per_order = data['Fuel_Cost'].sum() / data.shape[0]\n",
    "print(f'Average Fuel Cost per Order: {cost_per_order:.2f}')"
   ]
  },
  {
   "cell_type": "markdown",
   "id": "7687076d",
   "metadata": {},
   "source": [
    "## 5. Visualization & Reporting\n",
    "\n",
    "In this section, we will visualize key metrics and trends:\n",
    "- KPIs: On-Time %, Avg Delivery Time, Total Cost\n",
    "- Region-wise delivery performance\n",
    "- Delay trends over time\n",
    "- Courier performance comparison\n",
    "\n",
    "You can use these visualizations as a basis for Power BI or Tableau dashboards."
   ]
  },
  {
   "cell_type": "code",
   "execution_count": 5,
   "id": "eef87917",
   "metadata": {},
   "outputs": [
    {
     "data": {
      "image/png": "[encoded data removed]",
      "text/plain": [
       "<Figure size 800x500 with 1 Axes>"
      ]
     },
     "metadata": {},
     "output_type": "display_data"
    },
    {
     "data": {
      "image/png": "[encoded data removed]",
      "text/plain": [
       "<Figure size 800x500 with 1 Axes>"
      ]
     },
     "metadata": {},
     "output_type": "display_data"
    },
    {
     "data": {
      "image/png": "[encoded data removed]",
      "text/plain": [
       "<Figure size 1000x500 with 1 Axes>"
      ]
     },
     "metadata": {},
     "output_type": "display_data"
    },
    {
     "data": {
      "image/png": "[encoded data removed]",
      "text/plain": [
       "<Figure size 800x500 with 1 Axes>"
      ]
     },
     "metadata": {},
     "output_type": "display_data"
    }
   ],
   "source": [
    "# Visualization & Reporting\n",
    "import matplotlib.pyplot as plt\n",
    "import seaborn as sns\n",
    "\n",
    "# On-Time Delivery Percentage by Region\n",
    "plt.figure(figsize=(8,5))\n",
    "region_ontime = data.groupby('Region')['Delivery_Status'].apply(lambda x: (x=='On Time').mean()*100)\n",
    "region_ontime.plot(kind='bar', color='skyblue')\n",
    "plt.title('On-Time Delivery Percentage by Region')\n",
    "plt.ylabel('On-Time %')\n",
    "plt.xlabel('Region')\n",
    "plt.show()\n",
    "\n",
    "# Average Delivery Time by Courier\n",
    "plt.figure(figsize=(8,5))\n",
    "courier_avg_time = data.groupby('Courier_Name')['Time_Taken_hr'].mean()\n",
    "courier_avg_time.plot(kind='bar', color='orange')\n",
    "plt.title('Average Delivery Time by Courier')\n",
    "plt.ylabel('Avg Time (hr)')\n",
    "plt.xlabel('Courier')\n",
    "plt.show()\n",
    "\n",
    "# Delivery Delays Over Time\n",
    "plt.figure(figsize=(10,5))\n",
    "delay_trend = data.groupby(data['Delivery_Date'].dt.date)['Delivery_Delay_hr'].mean()\n",
    "delay_trend.plot()\n",
    "plt.title('Average Delivery Delay Over Time')\n",
    "plt.ylabel('Avg Delay (hr)')\n",
    "plt.xlabel('Date')\n",
    "plt.xticks(rotation=45)\n",
    "plt.tight_layout()\n",
    "plt.show()\n",
    "\n",
    "# Fuel Cost Distribution\n",
    "plt.figure(figsize=(8,5))\n",
    "sns.histplot(data['Fuel_Cost'], bins=30, kde=True, color='green')\n",
    "plt.title('Fuel Cost Distribution')\n",
    "plt.xlabel('Fuel Cost')\n",
    "plt.show()"
   ]
  },
  {
   "cell_type": "markdown",
   "id": "b030450b",
   "metadata": {},
   "source": [
    "## 6. Business Intelligence & Insights\n",
    "\n",
    "In this section, we will:\n",
    "- Identify top factors contributing to delivery delays\n",
    "- Recommend operational changes (e.g., re-routing, courier reassignment)\n",
    "- Highlight potential savings (e.g., fuel cost optimization, route shortening)\n",
    "\n",
    "These insights will inform strategic decisions for FastTrack Logistics."
   ]
  },
  {
   "cell_type": "code",
   "execution_count": 6,
   "id": "44cf4040",
   "metadata": {},
   "outputs": [
    {
     "name": "stdout",
     "output_type": "stream",
     "text": [
      "                            OLS Regression Results                            \n",
      "==============================================================================\n",
      "Dep. Variable:      Delivery_Delay_hr   R-squared:                       0.007\n",
      "Model:                            OLS   Adj. R-squared:                 -0.002\n",
      "Method:                 Least Squares   F-statistic:                    0.7362\n",
      "Date:                Tue, 22 Jul 2025   Prob (F-statistic):              0.676\n",
      "Time:                        08:57:15   Log-Likelihood:                -1764.0\n",
      "No. Observations:                1000   AIC:                             3548.\n",
      "Df Residuals:                     990   BIC:                             3597.\n",
      "Df Model:                           9                                         \n",
      "Covariance Type:            nonrobust                                         \n",
      "===============================================================================================\n",
      "                                  coef    std err          t      P>|t|      [0.025      0.975]\n",
      "-----------------------------------------------------------------------------------------------\n",
      "Intercept                       1.8006      0.148     12.201      0.000       1.511       2.090\n",
      "C(Region)[T.North]              0.1587      0.129      1.231      0.218      -0.094       0.411\n",
      "C(Region)[T.South]              0.1173      0.128      0.919      0.358      -0.133       0.368\n",
      "C(Region)[T.West]              -0.0146      0.125     -0.117      0.907      -0.260       0.231\n",
      "C(Courier_Name)[T.CourierB]     0.0718      0.130      0.552      0.581      -0.183       0.327\n",
      "C(Courier_Name)[T.CourierC]     0.0532      0.130      0.409      0.683      -0.202       0.308\n",
      "C(Courier_Name)[T.CourierD]     0.1275      0.130      0.981      0.327      -0.127       0.383\n",
      "Distance_km                    -0.0005      0.001     -0.603      0.547      -0.002       0.001\n",
      "Fuel_Cost                      -0.0003      0.001     -0.487      0.627      -0.001       0.001\n",
      "Time_Taken_hr                   0.0444      0.028      1.589      0.112      -0.010       0.099\n",
      "==============================================================================\n",
      "Omnibus:                     1530.010   Durbin-Watson:                   2.035\n",
      "Prob(Omnibus):                  0.000   Jarque-Bera (JB):               68.213\n",
      "Skew:                           0.053   Prob(JB):                     1.54e-15\n",
      "Kurtosis:                       1.725   Cond. No.                     2.08e+03\n",
      "==============================================================================\n",
      "\n",
      "Notes:\n",
      "[1] Standard Errors assume that the covariance matrix of the errors is correctly specified.\n",
      "[2] The condition number is large, 2.08e+03. This might indicate that there are\n",
      "strong multicollinearity or other numerical problems.\n",
      "\n",
      "Average Delivery Delay by Region:\n",
      "Region\n",
      "North    2.055085\n",
      "South    2.008197\n",
      "East     1.901575\n",
      "West     1.883459\n",
      "Name: Delivery_Delay_hr, dtype: float64\n",
      "\n",
      "Average Delivery Delay by Courier:\n",
      "Courier_Name\n",
      "CourierD    2.023166\n",
      "CourierB    1.969112\n",
      "CourierC    1.949416\n",
      "CourierA    1.884444\n",
      "Name: Delivery_Delay_hr, dtype: float64\n",
      "\n",
      "Recommendations:\n",
      "- Reassign deliveries from couriers with high average delays to better performers.\n",
      "- Optimize routes in regions with high delays.\n",
      "- Investigate fuel cost outliers for potential savings.\n"
     ]
    }
   ],
   "source": [
    "# Business Intelligence & Insights\n",
    "# Identify top factors contributing to delivery delays\n",
    "import statsmodels.api as sm\n",
    "from statsmodels.formula.api import ols\n",
    "\n",
    "# Regression analysis: What affects Delivery_Delay_hr?\n",
    "model = ols('Delivery_Delay_hr ~ Distance_km + Fuel_Cost + Time_Taken_hr + C(Region) + C(Courier_Name)', data=data).fit()\n",
    "print(model.summary())\n",
    "\n",
    "# Group by region and courier to find highest average delays\n",
    "delay_by_region = data.groupby('Region')['Delivery_Delay_hr'].mean().sort_values(ascending=False)\n",
    "delay_by_courier = data.groupby('Courier_Name')['Delivery_Delay_hr'].mean().sort_values(ascending=False)\n",
    "print('\\nAverage Delivery Delay by Region:')\n",
    "print(delay_by_region)\n",
    "print('\\nAverage Delivery Delay by Courier:')\n",
    "print(delay_by_courier)\n",
    "\n",
    "# Recommendations (as comments)\n",
    "print(\"\\nRecommendations:\")\n",
    "print(\"- Reassign deliveries from couriers with high average delays to better performers.\")\n",
    "print(\"- Optimize routes in regions with high delays.\")\n",
    "print(\"- Investigate fuel cost outliers for potential savings.\")"
   ]
  },
  {
   "cell_type": "markdown",
   "id": "ef742c2c",
   "metadata": {},
   "source": [
    "## 7. Automation\n",
    "\n",
    "In this section, we will:\n",
    "- Automate weekly data updates and summary report generation using Python\n",
    "- Export a summary report (CSV or email)\n",
    "\n",
    "This helps streamline reporting and keeps stakeholders informed."
   ]
  },
  {
   "cell_type": "code",
   "execution_count": 7,
   "id": "26d596e0",
   "metadata": {},
   "outputs": [],
   "source": [
    "# Automation: Weekly Summary Report\n",
    "import schedule\n",
    "import time\n",
    "import smtplib\n",
    "from email.mime.text import MIMEText\n",
    "from email.mime.multipart import MIMEMultipart\n",
    "\n",
    "# Function to generate and export weekly summary\n",
    "def export_weekly_summary():\n",
    "    summary = data.groupby('Region').agg({\n",
    "        'Order_ID': 'count',\n",
    "        'Delivery_Delay_hr': 'mean',\n",
    "        'Fuel_Cost': 'sum',\n",
    "        'Cost_per_km': 'mean'\n",
    "    }).rename(columns={'Order_ID': 'Total_Orders'})\n",
    "    summary.to_csv('weekly_logistics_summary.csv')\n",
    "    print('Weekly summary exported to CSV.')\n",
    "    # Optional: Send email (configure SMTP settings as needed)\n",
    "    # send_email_report('weekly_logistics_summary.csv')\n",
    "\n",
    "# Example: Schedule every Monday at 8am\n",
    "# schedule.every().monday.at(\"08:00\").do(export_weekly_summary)\n",
    "\n",
    "# Uncomment below to run the scheduler (for demonstration only)\n",
    "# while True:\n",
    "#     schedule.run_pending()\n",
    "#     time.sleep(60)\n",
    "\n",
    "# Email sending function\n",
    "def send_email_report(filename):\n",
    "    sender = 'your_email@example.com'\n",
    "    receiver = 'recipient@example.com'\n",
    "    subject = 'Weekly Logistics Summary Report'\n",
    "    body = 'Please find attached the latest weekly logistics summary.'\n",
    "    msg = MIMEMultipart()\n",
    "    msg['From'] = sender\n",
    "    msg['To'] = receiver\n",
    "    msg['Subject'] = subject\n",
    "    msg.attach(MIMEText(body, 'plain'))\n",
    "    with open(filename, 'r') as f:\n",
    "        attachment = MIMEText(f.read())\n",
    "        attachment.add_header('Content-Disposition', 'attachment', filename=filename)\n",
    "        msg.attach(attachment)\n",
    "    # Configure SMTP server and send\n",
    "    # with smtplib.SMTP('smtp.example.com', 587) as server:\n",
    "    #     server.starttls()\n",
    "    #     server.login(sender, 'your_password')\n",
    "    #     server.sendmail(sender, receiver, msg.as_string())\n",
    "    print('Email sent (demo only).')"
   ]
  },
  {
   "cell_type": "code",
   "execution_count": 8,
   "id": "d4972b74",
   "metadata": {},
   "outputs": [
    {
     "name": "stdout",
     "output_type": "stream",
     "text": [
      "logistics_cleaned_for_dashboard.csv exported successfully.\n"
     ]
    }
   ],
   "source": [
    "# Export cleaned dataset for dashboard use\n",
    "# This CSV can be imported into Power BI, Tableau, or other dashboard tools\n",
    "data.to_csv('logistics_cleaned_for_dashboard.csv', index=False)\n",
    "print('logistics_cleaned_for_dashboard.csv exported successfully.')"
   ]
  },
  {
   "cell_type": "markdown",
   "id": "7fff097f",
   "metadata": {},
   "source": [
    "## 8. Dashboard Setup\n",
    "\n",
    "This section demonstrates how to create an interactive dashboard using Plotly Express in Python. You can use these charts directly in the notebook or adapt them for web dashboards (e.g., Dash, Streamlit). For external tools like Power BI or Tableau, use the exported CSV file."
   ]
  },
  {
   "cell_type": "code",
   "execution_count": null,
   "id": "8893dad9",
   "metadata": {},
   "outputs": [],
   "source": [
    "# Interactive Dashboard with Plotly Express\n",
    "import plotly.express as px\n",
    "\n",
    "# On-Time Delivery % by Region\n",
    "fig1 = px.bar(\n",
    "    data.groupby('Region')['Delivery_Status'].apply(lambda x: (x=='On Time').mean()*100).reset_index(),\n",
    "    x='Region', y='Delivery_Status',\n",
    "    title='On-Time Delivery % by Region', labels={'Delivery_Status':'On-Time %'}\n",
    ")\n",
    "fig1.show()\n",
    "\n",
    "# Average Delivery Time by Courier\n",
    "fig2 = px.bar(\n",
    "    data.groupby('Courier_Name')['Time_Taken_hr'].mean().reset_index(),\n",
    "    x='Courier_Name', y='Time_Taken_hr',\n",
    "    title='Average Delivery Time by Courier', labels={'Time_Taken_hr':'Avg Time (hr)'}\n",
    ")\n",
    "fig2.show()\n",
    "\n",
    "# Delay Trends Over Time\n",
    "fig3 = px.line(\n",
    "    data.groupby(data['Delivery_Date'].dt.date)['Delivery_Delay_hr'].mean().reset_index(),\n",
    "    x='Delivery_Date', y='Delivery_Delay_hr',\n",
    "    title='Average Delivery Delay Over Time', labels={'Delivery_Delay_hr':'Avg Delay (hr)'}\n",
    ")\n",
    "fig3.show()\n",
    "\n",
    "# Fuel Cost Distribution\n",
    "fig4 = px.histogram(\n",
    "    data, x='Fuel_Cost', nbins=30,\n",
    "    title='Fuel Cost Distribution', labels={'Fuel_Cost':'Fuel Cost'}\n",
    ")\n",
    "fig4.show()"
   ]
  }
 ],
 "metadata": {
  "kernelspec": {
   "display_name": "venv",
   "language": "python",
   "name": "python3"
  },
  "language_info": {
   "codemirror_mode": {
    "name": "ipython",
    "version": 3
   },
   "file_extension": ".py",
   "mimetype": "text/x-python",
   "name": "python",
   "nbconvert_exporter": "python",
   "pygments_lexer": "ipython3",
   "version": "3.13.5"
  }
 },
 "nbformat": 4,
 "nbformat_minor": 5
}
